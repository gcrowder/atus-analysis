{
 "cells": [
  {
   "cell_type": "markdown",
   "metadata": {},
   "source": [
    "# Analysis of the 2014 American Time Use Survey\n",
    "This Jupyter notebook does some very simple analysis of the 2014 ATUS data. [Download the data yourself](http://www.bls.gov/tus/datafiles_2014.htm) or clone my [atus-analysis repository](https://github.com/gcrowder/atus-analysis) on github to follow along.\n",
    "\n",
    "The Bureau of Labor Statistics has spread the data across several disparate files. I will utilize three files in this notebook: Activity, Respondent, and Roster. These files can be linked by their common use of the TUCASEID variable, which the BLS has used to identify individual respondents to the survey.\n",
    "\n",
    "The two main topics analyzed in this notebook are Child Care and Sleep."
   ]
  },
  {
   "cell_type": "markdown",
   "metadata": {},
   "source": [
    "### Import modules"
   ]
  },
  {
   "cell_type": "code",
   "execution_count": null,
   "metadata": {
    "collapsed": true
   },
   "outputs": [],
   "source": [
    "import pandas as pd\n",
    "import matplotlib.pyplot as plt\n",
    "import seaborn as sns\n",
    "import atus_analysis as at\n",
    "%matplotlib inline"
   ]
  },
  {
   "cell_type": "markdown",
   "metadata": {},
   "source": [
    "    import atus_analysis as at\n",
    "atus_analysis is "
   ]
  }
 ],
 "metadata": {
  "kernelspec": {
   "display_name": "Python 3",
   "language": "python",
   "name": "python3"
  },
  "language_info": {
   "codemirror_mode": {
    "name": "ipython",
    "version": 3
   },
   "file_extension": ".py",
   "mimetype": "text/x-python",
   "name": "python",
   "nbconvert_exporter": "python",
   "pygments_lexer": "ipython3",
   "version": "3.5.1"
  }
 },
 "nbformat": 4,
 "nbformat_minor": 0
}
