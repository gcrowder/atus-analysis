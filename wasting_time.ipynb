{
 "cells": [
  {
   "cell_type": "code",
   "execution_count": 1,
   "metadata": {
    "collapsed": true
   },
   "outputs": [],
   "source": [
    "import pandas as pd\n",
    "import matplotlib.pyplot as plt\n",
    "import atus_analysis as at\n",
    "%matplotlib inline"
   ]
  },
  {
   "cell_type": "code",
   "execution_count": 2,
   "metadata": {
    "collapsed": true
   },
   "outputs": [],
   "source": [
    "activity = pd.read_csv('data/atusact_2014.dat')"
   ]
  },
  {
   "cell_type": "code",
   "execution_count": 3,
   "metadata": {
    "collapsed": false
   },
   "outputs": [],
   "source": [
    "respondent = pd.read_csv('data/atusresp_2014.dat')"
   ]
  },
  {
   "cell_type": "code",
   "execution_count": 4,
   "metadata": {
    "collapsed": false
   },
   "outputs": [],
   "source": [
    "roster = pd.read_csv('data/atusrost_2014.dat')"
   ]
  },
  {
   "cell_type": "code",
   "execution_count": 5,
   "metadata": {
    "collapsed": false
   },
   "outputs": [],
   "source": [
    "#who = pd.read_csv('data/atuswho_2014.dat')"
   ]
  },
  {
   "cell_type": "code",
   "execution_count": 6,
   "metadata": {
    "collapsed": false
   },
   "outputs": [],
   "source": [
    "#cps = pd.read_csv('data/atuscps_2014.dat')"
   ]
  },
  {
   "cell_type": "code",
   "execution_count": 7,
   "metadata": {
    "collapsed": false
   },
   "outputs": [],
   "source": [
    "#elder_care = pd.read_csv('data/atusrostec_2014.dat')"
   ]
  },
  {
   "cell_type": "code",
   "execution_count": 8,
   "metadata": {
    "collapsed": false
   },
   "outputs": [],
   "source": [
    "activity_sum = pd.read_csv('data/atussum_2014.dat')"
   ]
  },
  {
   "cell_type": "code",
   "execution_count": 9,
   "metadata": {
    "collapsed": false
   },
   "outputs": [],
   "source": [
    "child_care = activity[['TUCASEID', 'TUACTIVITY_N', 'TUACTDUR24']].copy()"
   ]
  },
  {
   "cell_type": "code",
   "execution_count": 10,
   "metadata": {
    "collapsed": false
   },
   "outputs": [
    {
     "data": {
      "text/html": [
       "<div>\n",
       "<table border=\"1\" class=\"dataframe\">\n",
       "  <thead>\n",
       "    <tr style=\"text-align: right;\">\n",
       "      <th></th>\n",
       "      <th>TUCASEID</th>\n",
       "      <th>TULINENO</th>\n",
       "      <th>TUYEAR</th>\n",
       "      <th>TUMONTH</th>\n",
       "      <th>TEABSRSN</th>\n",
       "      <th>TEERN</th>\n",
       "      <th>TEERNH1O</th>\n",
       "      <th>TEERNH2</th>\n",
       "      <th>TEERNHRO</th>\n",
       "      <th>TEERNHRY</th>\n",
       "      <th>...</th>\n",
       "      <th>TXSPEMPNOT</th>\n",
       "      <th>TXSPUHRS</th>\n",
       "      <th>TXTCC</th>\n",
       "      <th>TXTCCTOT</th>\n",
       "      <th>TXTCOC</th>\n",
       "      <th>TXTHH</th>\n",
       "      <th>TXTNOHH</th>\n",
       "      <th>TXTO</th>\n",
       "      <th>TXTOHH</th>\n",
       "      <th>TXTONHH</th>\n",
       "    </tr>\n",
       "  </thead>\n",
       "  <tbody>\n",
       "    <tr>\n",
       "      <th>0</th>\n",
       "      <td>20140101140007</td>\n",
       "      <td>1</td>\n",
       "      <td>2014</td>\n",
       "      <td>1</td>\n",
       "      <td>-1</td>\n",
       "      <td>-1</td>\n",
       "      <td>-1</td>\n",
       "      <td>-1</td>\n",
       "      <td>-1</td>\n",
       "      <td>-1</td>\n",
       "      <td>...</td>\n",
       "      <td>0</td>\n",
       "      <td>0</td>\n",
       "      <td>0</td>\n",
       "      <td>0</td>\n",
       "      <td>0</td>\n",
       "      <td>0</td>\n",
       "      <td>-1</td>\n",
       "      <td>0</td>\n",
       "      <td>0</td>\n",
       "      <td>-1</td>\n",
       "    </tr>\n",
       "    <tr>\n",
       "      <th>1</th>\n",
       "      <td>20140101140011</td>\n",
       "      <td>1</td>\n",
       "      <td>2014</td>\n",
       "      <td>1</td>\n",
       "      <td>-1</td>\n",
       "      <td>-1</td>\n",
       "      <td>-1</td>\n",
       "      <td>500</td>\n",
       "      <td>-1</td>\n",
       "      <td>1</td>\n",
       "      <td>...</td>\n",
       "      <td>-1</td>\n",
       "      <td>-1</td>\n",
       "      <td>-1</td>\n",
       "      <td>0</td>\n",
       "      <td>0</td>\n",
       "      <td>-1</td>\n",
       "      <td>-1</td>\n",
       "      <td>-1</td>\n",
       "      <td>-1</td>\n",
       "      <td>-1</td>\n",
       "    </tr>\n",
       "    <tr>\n",
       "      <th>2</th>\n",
       "      <td>20140101140028</td>\n",
       "      <td>1</td>\n",
       "      <td>2014</td>\n",
       "      <td>1</td>\n",
       "      <td>-1</td>\n",
       "      <td>-1</td>\n",
       "      <td>-1</td>\n",
       "      <td>-1</td>\n",
       "      <td>-1</td>\n",
       "      <td>-1</td>\n",
       "      <td>...</td>\n",
       "      <td>-1</td>\n",
       "      <td>-1</td>\n",
       "      <td>0</td>\n",
       "      <td>0</td>\n",
       "      <td>0</td>\n",
       "      <td>0</td>\n",
       "      <td>0</td>\n",
       "      <td>-1</td>\n",
       "      <td>-1</td>\n",
       "      <td>-1</td>\n",
       "    </tr>\n",
       "    <tr>\n",
       "      <th>3</th>\n",
       "      <td>20140101140063</td>\n",
       "      <td>1</td>\n",
       "      <td>2014</td>\n",
       "      <td>1</td>\n",
       "      <td>-1</td>\n",
       "      <td>-1</td>\n",
       "      <td>-1</td>\n",
       "      <td>-1</td>\n",
       "      <td>-1</td>\n",
       "      <td>-1</td>\n",
       "      <td>...</td>\n",
       "      <td>-1</td>\n",
       "      <td>-1</td>\n",
       "      <td>-1</td>\n",
       "      <td>0</td>\n",
       "      <td>0</td>\n",
       "      <td>-1</td>\n",
       "      <td>-1</td>\n",
       "      <td>-1</td>\n",
       "      <td>-1</td>\n",
       "      <td>-1</td>\n",
       "    </tr>\n",
       "    <tr>\n",
       "      <th>4</th>\n",
       "      <td>20140101140168</td>\n",
       "      <td>1</td>\n",
       "      <td>2014</td>\n",
       "      <td>1</td>\n",
       "      <td>-1</td>\n",
       "      <td>-1</td>\n",
       "      <td>-1</td>\n",
       "      <td>-1</td>\n",
       "      <td>-1</td>\n",
       "      <td>-1</td>\n",
       "      <td>...</td>\n",
       "      <td>-1</td>\n",
       "      <td>-1</td>\n",
       "      <td>0</td>\n",
       "      <td>0</td>\n",
       "      <td>0</td>\n",
       "      <td>0</td>\n",
       "      <td>-1</td>\n",
       "      <td>0</td>\n",
       "      <td>0</td>\n",
       "      <td>-1</td>\n",
       "    </tr>\n",
       "  </tbody>\n",
       "</table>\n",
       "<p>5 rows × 175 columns</p>\n",
       "</div>"
      ],
      "text/plain": [
       "         TUCASEID  TULINENO  TUYEAR  TUMONTH  TEABSRSN  TEERN  TEERNH1O  \\\n",
       "0  20140101140007         1    2014        1        -1     -1        -1   \n",
       "1  20140101140011         1    2014        1        -1     -1        -1   \n",
       "2  20140101140028         1    2014        1        -1     -1        -1   \n",
       "3  20140101140063         1    2014        1        -1     -1        -1   \n",
       "4  20140101140168         1    2014        1        -1     -1        -1   \n",
       "\n",
       "   TEERNH2  TEERNHRO  TEERNHRY   ...     TXSPEMPNOT  TXSPUHRS  TXTCC  \\\n",
       "0       -1        -1        -1   ...              0         0      0   \n",
       "1      500        -1         1   ...             -1        -1     -1   \n",
       "2       -1        -1        -1   ...             -1        -1      0   \n",
       "3       -1        -1        -1   ...             -1        -1     -1   \n",
       "4       -1        -1        -1   ...             -1        -1      0   \n",
       "\n",
       "   TXTCCTOT  TXTCOC  TXTHH  TXTNOHH  TXTO  TXTOHH  TXTONHH  \n",
       "0         0       0      0       -1     0       0       -1  \n",
       "1         0       0     -1       -1    -1      -1       -1  \n",
       "2         0       0      0        0    -1      -1       -1  \n",
       "3         0       0     -1       -1    -1      -1       -1  \n",
       "4         0       0      0       -1     0       0       -1  \n",
       "\n",
       "[5 rows x 175 columns]"
      ]
     },
     "execution_count": 10,
     "metadata": {},
     "output_type": "execute_result"
    }
   ],
   "source": [
    "respondent.head()"
   ]
  },
  {
   "cell_type": "code",
   "execution_count": 11,
   "metadata": {
    "collapsed": false,
    "scrolled": true
   },
   "outputs": [],
   "source": [
    "# for ID, household in child_care_by_ID:\n",
    "#     print(ID)\n",
    "#     print(household)\n",
    "#child_care['codes'] = at.get_six_digit_codes(child_care)\n",
    "child_care['codes'] = [str(row.TUTIER1CODE) + str(row.TUTIER2CODE) + str(row.TUTIER3CODE) for row in activity.itertuples()] "
   ]
  },
  {
   "cell_type": "code",
   "execution_count": 12,
   "metadata": {
    "collapsed": false
   },
   "outputs": [
    {
     "data": {
      "text/html": [
       "<div>\n",
       "<table border=\"1\" class=\"dataframe\">\n",
       "  <thead>\n",
       "    <tr style=\"text-align: right;\">\n",
       "      <th></th>\n",
       "      <th>TUCASEID</th>\n",
       "      <th>TUACTIVITY_N</th>\n",
       "      <th>TUACTDUR24</th>\n",
       "      <th>codes</th>\n",
       "    </tr>\n",
       "  </thead>\n",
       "  <tbody>\n",
       "    <tr>\n",
       "      <th>0</th>\n",
       "      <td>20140101140007</td>\n",
       "      <td>1</td>\n",
       "      <td>540</td>\n",
       "      <td>111</td>\n",
       "    </tr>\n",
       "    <tr>\n",
       "      <th>1</th>\n",
       "      <td>20140101140007</td>\n",
       "      <td>2</td>\n",
       "      <td>30</td>\n",
       "      <td>311</td>\n",
       "    </tr>\n",
       "    <tr>\n",
       "      <th>2</th>\n",
       "      <td>20140101140007</td>\n",
       "      <td>3</td>\n",
       "      <td>60</td>\n",
       "      <td>121</td>\n",
       "    </tr>\n",
       "    <tr>\n",
       "      <th>3</th>\n",
       "      <td>20140101140007</td>\n",
       "      <td>4</td>\n",
       "      <td>10</td>\n",
       "      <td>18111</td>\n",
       "    </tr>\n",
       "    <tr>\n",
       "      <th>4</th>\n",
       "      <td>20140101140007</td>\n",
       "      <td>5</td>\n",
       "      <td>30</td>\n",
       "      <td>1111</td>\n",
       "    </tr>\n",
       "    <tr>\n",
       "      <th>5</th>\n",
       "      <td>20140101140007</td>\n",
       "      <td>6</td>\n",
       "      <td>20</td>\n",
       "      <td>18131</td>\n",
       "    </tr>\n",
       "    <tr>\n",
       "      <th>6</th>\n",
       "      <td>20140101140007</td>\n",
       "      <td>7</td>\n",
       "      <td>90</td>\n",
       "      <td>13116</td>\n",
       "    </tr>\n",
       "    <tr>\n",
       "      <th>7</th>\n",
       "      <td>20140101140007</td>\n",
       "      <td>8</td>\n",
       "      <td>25</td>\n",
       "      <td>18131</td>\n",
       "    </tr>\n",
       "    <tr>\n",
       "      <th>8</th>\n",
       "      <td>20140101140007</td>\n",
       "      <td>9</td>\n",
       "      <td>30</td>\n",
       "      <td>1233</td>\n",
       "    </tr>\n",
       "    <tr>\n",
       "      <th>9</th>\n",
       "      <td>20140101140007</td>\n",
       "      <td>10</td>\n",
       "      <td>605</td>\n",
       "      <td>111</td>\n",
       "    </tr>\n",
       "    <tr>\n",
       "      <th>10</th>\n",
       "      <td>20140101140011</td>\n",
       "      <td>1</td>\n",
       "      <td>150</td>\n",
       "      <td>111</td>\n",
       "    </tr>\n",
       "    <tr>\n",
       "      <th>11</th>\n",
       "      <td>20140101140011</td>\n",
       "      <td>2</td>\n",
       "      <td>30</td>\n",
       "      <td>121</td>\n",
       "    </tr>\n",
       "    <tr>\n",
       "      <th>12</th>\n",
       "      <td>20140101140011</td>\n",
       "      <td>3</td>\n",
       "      <td>30</td>\n",
       "      <td>1851</td>\n",
       "    </tr>\n",
       "    <tr>\n",
       "      <th>13</th>\n",
       "      <td>20140101140011</td>\n",
       "      <td>4</td>\n",
       "      <td>360</td>\n",
       "      <td>511</td>\n",
       "    </tr>\n",
       "    <tr>\n",
       "      <th>14</th>\n",
       "      <td>20140101140011</td>\n",
       "      <td>5</td>\n",
       "      <td>15</td>\n",
       "      <td>1111</td>\n",
       "    </tr>\n",
       "    <tr>\n",
       "      <th>15</th>\n",
       "      <td>20140101140011</td>\n",
       "      <td>6</td>\n",
       "      <td>105</td>\n",
       "      <td>511</td>\n",
       "    </tr>\n",
       "    <tr>\n",
       "      <th>16</th>\n",
       "      <td>20140101140011</td>\n",
       "      <td>7</td>\n",
       "      <td>20</td>\n",
       "      <td>1851</td>\n",
       "    </tr>\n",
       "    <tr>\n",
       "      <th>17</th>\n",
       "      <td>20140101140011</td>\n",
       "      <td>8</td>\n",
       "      <td>40</td>\n",
       "      <td>1851</td>\n",
       "    </tr>\n",
       "    <tr>\n",
       "      <th>18</th>\n",
       "      <td>20140101140011</td>\n",
       "      <td>9</td>\n",
       "      <td>120</td>\n",
       "      <td>111</td>\n",
       "    </tr>\n",
       "    <tr>\n",
       "      <th>19</th>\n",
       "      <td>20140101140011</td>\n",
       "      <td>10</td>\n",
       "      <td>20</td>\n",
       "      <td>221</td>\n",
       "    </tr>\n",
       "    <tr>\n",
       "      <th>20</th>\n",
       "      <td>20140101140011</td>\n",
       "      <td>11</td>\n",
       "      <td>60</td>\n",
       "      <td>1233</td>\n",
       "    </tr>\n",
       "    <tr>\n",
       "      <th>21</th>\n",
       "      <td>20140101140011</td>\n",
       "      <td>12</td>\n",
       "      <td>30</td>\n",
       "      <td>121</td>\n",
       "    </tr>\n",
       "    <tr>\n",
       "      <th>22</th>\n",
       "      <td>20140101140011</td>\n",
       "      <td>13</td>\n",
       "      <td>40</td>\n",
       "      <td>1238</td>\n",
       "    </tr>\n",
       "    <tr>\n",
       "      <th>23</th>\n",
       "      <td>20140101140011</td>\n",
       "      <td>14</td>\n",
       "      <td>30</td>\n",
       "      <td>1111</td>\n",
       "    </tr>\n",
       "    <tr>\n",
       "      <th>24</th>\n",
       "      <td>20140101140011</td>\n",
       "      <td>15</td>\n",
       "      <td>60</td>\n",
       "      <td>1211</td>\n",
       "    </tr>\n",
       "    <tr>\n",
       "      <th>25</th>\n",
       "      <td>20140101140011</td>\n",
       "      <td>16</td>\n",
       "      <td>20</td>\n",
       "      <td>223</td>\n",
       "    </tr>\n",
       "    <tr>\n",
       "      <th>26</th>\n",
       "      <td>20140101140011</td>\n",
       "      <td>17</td>\n",
       "      <td>40</td>\n",
       "      <td>1233</td>\n",
       "    </tr>\n",
       "    <tr>\n",
       "      <th>27</th>\n",
       "      <td>20140101140011</td>\n",
       "      <td>18</td>\n",
       "      <td>270</td>\n",
       "      <td>111</td>\n",
       "    </tr>\n",
       "    <tr>\n",
       "      <th>28</th>\n",
       "      <td>20140101140028</td>\n",
       "      <td>1</td>\n",
       "      <td>45</td>\n",
       "      <td>121</td>\n",
       "    </tr>\n",
       "    <tr>\n",
       "      <th>29</th>\n",
       "      <td>20140101140028</td>\n",
       "      <td>2</td>\n",
       "      <td>315</td>\n",
       "      <td>111</td>\n",
       "    </tr>\n",
       "    <tr>\n",
       "      <th>...</th>\n",
       "      <td>...</td>\n",
       "      <td>...</td>\n",
       "      <td>...</td>\n",
       "      <td>...</td>\n",
       "    </tr>\n",
       "    <tr>\n",
       "      <th>223219</th>\n",
       "      <td>20141212142484</td>\n",
       "      <td>5</td>\n",
       "      <td>60</td>\n",
       "      <td>18111</td>\n",
       "    </tr>\n",
       "    <tr>\n",
       "      <th>223220</th>\n",
       "      <td>20141212142484</td>\n",
       "      <td>6</td>\n",
       "      <td>120</td>\n",
       "      <td>1111</td>\n",
       "    </tr>\n",
       "    <tr>\n",
       "      <th>223221</th>\n",
       "      <td>20141212142484</td>\n",
       "      <td>7</td>\n",
       "      <td>30</td>\n",
       "      <td>18132</td>\n",
       "    </tr>\n",
       "    <tr>\n",
       "      <th>223222</th>\n",
       "      <td>20141212142484</td>\n",
       "      <td>8</td>\n",
       "      <td>270</td>\n",
       "      <td>1323</td>\n",
       "    </tr>\n",
       "    <tr>\n",
       "      <th>223223</th>\n",
       "      <td>20141212142484</td>\n",
       "      <td>9</td>\n",
       "      <td>10</td>\n",
       "      <td>18111</td>\n",
       "    </tr>\n",
       "    <tr>\n",
       "      <th>223224</th>\n",
       "      <td>20141212142484</td>\n",
       "      <td>10</td>\n",
       "      <td>120</td>\n",
       "      <td>1111</td>\n",
       "    </tr>\n",
       "    <tr>\n",
       "      <th>223225</th>\n",
       "      <td>20141212142484</td>\n",
       "      <td>11</td>\n",
       "      <td>10</td>\n",
       "      <td>1845</td>\n",
       "    </tr>\n",
       "    <tr>\n",
       "      <th>223226</th>\n",
       "      <td>20141212142484</td>\n",
       "      <td>12</td>\n",
       "      <td>30</td>\n",
       "      <td>1845</td>\n",
       "    </tr>\n",
       "    <tr>\n",
       "      <th>223227</th>\n",
       "      <td>20141212142484</td>\n",
       "      <td>13</td>\n",
       "      <td>15</td>\n",
       "      <td>457</td>\n",
       "    </tr>\n",
       "    <tr>\n",
       "      <th>223228</th>\n",
       "      <td>20141212142484</td>\n",
       "      <td>14</td>\n",
       "      <td>15</td>\n",
       "      <td>1845</td>\n",
       "    </tr>\n",
       "    <tr>\n",
       "      <th>223229</th>\n",
       "      <td>20141212142484</td>\n",
       "      <td>15</td>\n",
       "      <td>20</td>\n",
       "      <td>121</td>\n",
       "    </tr>\n",
       "    <tr>\n",
       "      <th>223230</th>\n",
       "      <td>20141212142484</td>\n",
       "      <td>16</td>\n",
       "      <td>110</td>\n",
       "      <td>111</td>\n",
       "    </tr>\n",
       "    <tr>\n",
       "      <th>223231</th>\n",
       "      <td>20141212142500</td>\n",
       "      <td>1</td>\n",
       "      <td>180</td>\n",
       "      <td>111</td>\n",
       "    </tr>\n",
       "    <tr>\n",
       "      <th>223232</th>\n",
       "      <td>20141212142500</td>\n",
       "      <td>2</td>\n",
       "      <td>30</td>\n",
       "      <td>1111</td>\n",
       "    </tr>\n",
       "    <tr>\n",
       "      <th>223233</th>\n",
       "      <td>20141212142500</td>\n",
       "      <td>3</td>\n",
       "      <td>45</td>\n",
       "      <td>121</td>\n",
       "    </tr>\n",
       "    <tr>\n",
       "      <th>223234</th>\n",
       "      <td>20141212142500</td>\n",
       "      <td>4</td>\n",
       "      <td>15</td>\n",
       "      <td>18141</td>\n",
       "    </tr>\n",
       "    <tr>\n",
       "      <th>223235</th>\n",
       "      <td>20141212142500</td>\n",
       "      <td>5</td>\n",
       "      <td>135</td>\n",
       "      <td>1411</td>\n",
       "    </tr>\n",
       "    <tr>\n",
       "      <th>223236</th>\n",
       "      <td>20141212142500</td>\n",
       "      <td>6</td>\n",
       "      <td>15</td>\n",
       "      <td>18141</td>\n",
       "    </tr>\n",
       "    <tr>\n",
       "      <th>223237</th>\n",
       "      <td>20141212142500</td>\n",
       "      <td>7</td>\n",
       "      <td>30</td>\n",
       "      <td>1111</td>\n",
       "    </tr>\n",
       "    <tr>\n",
       "      <th>223238</th>\n",
       "      <td>20141212142500</td>\n",
       "      <td>8</td>\n",
       "      <td>150</td>\n",
       "      <td>1233</td>\n",
       "    </tr>\n",
       "    <tr>\n",
       "      <th>223239</th>\n",
       "      <td>20141212142500</td>\n",
       "      <td>9</td>\n",
       "      <td>60</td>\n",
       "      <td>211</td>\n",
       "    </tr>\n",
       "    <tr>\n",
       "      <th>223240</th>\n",
       "      <td>20141212142500</td>\n",
       "      <td>10</td>\n",
       "      <td>60</td>\n",
       "      <td>231</td>\n",
       "    </tr>\n",
       "    <tr>\n",
       "      <th>223241</th>\n",
       "      <td>20141212142500</td>\n",
       "      <td>11</td>\n",
       "      <td>60</td>\n",
       "      <td>313</td>\n",
       "    </tr>\n",
       "    <tr>\n",
       "      <th>223242</th>\n",
       "      <td>20141212142500</td>\n",
       "      <td>12</td>\n",
       "      <td>60</td>\n",
       "      <td>1211</td>\n",
       "    </tr>\n",
       "    <tr>\n",
       "      <th>223243</th>\n",
       "      <td>20141212142500</td>\n",
       "      <td>13</td>\n",
       "      <td>60</td>\n",
       "      <td>1111</td>\n",
       "    </tr>\n",
       "    <tr>\n",
       "      <th>223244</th>\n",
       "      <td>20141212142500</td>\n",
       "      <td>14</td>\n",
       "      <td>60</td>\n",
       "      <td>1211</td>\n",
       "    </tr>\n",
       "    <tr>\n",
       "      <th>223245</th>\n",
       "      <td>20141212142500</td>\n",
       "      <td>15</td>\n",
       "      <td>30</td>\n",
       "      <td>311</td>\n",
       "    </tr>\n",
       "    <tr>\n",
       "      <th>223246</th>\n",
       "      <td>20141212142500</td>\n",
       "      <td>16</td>\n",
       "      <td>30</td>\n",
       "      <td>223</td>\n",
       "    </tr>\n",
       "    <tr>\n",
       "      <th>223247</th>\n",
       "      <td>20141212142500</td>\n",
       "      <td>17</td>\n",
       "      <td>60</td>\n",
       "      <td>1233</td>\n",
       "    </tr>\n",
       "    <tr>\n",
       "      <th>223248</th>\n",
       "      <td>20141212142500</td>\n",
       "      <td>18</td>\n",
       "      <td>360</td>\n",
       "      <td>111</td>\n",
       "    </tr>\n",
       "  </tbody>\n",
       "</table>\n",
       "<p>223249 rows × 4 columns</p>\n",
       "</div>"
      ],
      "text/plain": [
       "              TUCASEID  TUACTIVITY_N  TUACTDUR24  codes\n",
       "0       20140101140007             1         540    111\n",
       "1       20140101140007             2          30    311\n",
       "2       20140101140007             3          60    121\n",
       "3       20140101140007             4          10  18111\n",
       "4       20140101140007             5          30   1111\n",
       "5       20140101140007             6          20  18131\n",
       "6       20140101140007             7          90  13116\n",
       "7       20140101140007             8          25  18131\n",
       "8       20140101140007             9          30   1233\n",
       "9       20140101140007            10         605    111\n",
       "10      20140101140011             1         150    111\n",
       "11      20140101140011             2          30    121\n",
       "12      20140101140011             3          30   1851\n",
       "13      20140101140011             4         360    511\n",
       "14      20140101140011             5          15   1111\n",
       "15      20140101140011             6         105    511\n",
       "16      20140101140011             7          20   1851\n",
       "17      20140101140011             8          40   1851\n",
       "18      20140101140011             9         120    111\n",
       "19      20140101140011            10          20    221\n",
       "20      20140101140011            11          60   1233\n",
       "21      20140101140011            12          30    121\n",
       "22      20140101140011            13          40   1238\n",
       "23      20140101140011            14          30   1111\n",
       "24      20140101140011            15          60   1211\n",
       "25      20140101140011            16          20    223\n",
       "26      20140101140011            17          40   1233\n",
       "27      20140101140011            18         270    111\n",
       "28      20140101140028             1          45    121\n",
       "29      20140101140028             2         315    111\n",
       "...                ...           ...         ...    ...\n",
       "223219  20141212142484             5          60  18111\n",
       "223220  20141212142484             6         120   1111\n",
       "223221  20141212142484             7          30  18132\n",
       "223222  20141212142484             8         270   1323\n",
       "223223  20141212142484             9          10  18111\n",
       "223224  20141212142484            10         120   1111\n",
       "223225  20141212142484            11          10   1845\n",
       "223226  20141212142484            12          30   1845\n",
       "223227  20141212142484            13          15    457\n",
       "223228  20141212142484            14          15   1845\n",
       "223229  20141212142484            15          20    121\n",
       "223230  20141212142484            16         110    111\n",
       "223231  20141212142500             1         180    111\n",
       "223232  20141212142500             2          30   1111\n",
       "223233  20141212142500             3          45    121\n",
       "223234  20141212142500             4          15  18141\n",
       "223235  20141212142500             5         135   1411\n",
       "223236  20141212142500             6          15  18141\n",
       "223237  20141212142500             7          30   1111\n",
       "223238  20141212142500             8         150   1233\n",
       "223239  20141212142500             9          60    211\n",
       "223240  20141212142500            10          60    231\n",
       "223241  20141212142500            11          60    313\n",
       "223242  20141212142500            12          60   1211\n",
       "223243  20141212142500            13          60   1111\n",
       "223244  20141212142500            14          60   1211\n",
       "223245  20141212142500            15          30    311\n",
       "223246  20141212142500            16          30    223\n",
       "223247  20141212142500            17          60   1233\n",
       "223248  20141212142500            18         360    111\n",
       "\n",
       "[223249 rows x 4 columns]"
      ]
     },
     "execution_count": 12,
     "metadata": {},
     "output_type": "execute_result"
    }
   ],
   "source": [
    "child_care"
   ]
  },
  {
   "cell_type": "code",
   "execution_count": 13,
   "metadata": {
    "collapsed": false
   },
   "outputs": [],
   "source": [
    "child_care_by_ID = child_care.groupby(['TUCASEID'])"
   ]
  },
  {
   "cell_type": "code",
   "execution_count": 14,
   "metadata": {
    "collapsed": false
   },
   "outputs": [
    {
     "data": {
      "text/html": [
       "<div>\n",
       "<table border=\"1\" class=\"dataframe\">\n",
       "  <thead>\n",
       "    <tr style=\"text-align: right;\">\n",
       "      <th></th>\n",
       "      <th>TUCASEID</th>\n",
       "      <th>TUACTIVITY_N</th>\n",
       "      <th>TUACTDUR24</th>\n",
       "      <th>codes</th>\n",
       "    </tr>\n",
       "  </thead>\n",
       "  <tbody>\n",
       "    <tr>\n",
       "      <th>0</th>\n",
       "      <td>20140101140007</td>\n",
       "      <td>1</td>\n",
       "      <td>540</td>\n",
       "      <td>111</td>\n",
       "    </tr>\n",
       "    <tr>\n",
       "      <th>1</th>\n",
       "      <td>20140101140007</td>\n",
       "      <td>2</td>\n",
       "      <td>30</td>\n",
       "      <td>311</td>\n",
       "    </tr>\n",
       "    <tr>\n",
       "      <th>2</th>\n",
       "      <td>20140101140007</td>\n",
       "      <td>3</td>\n",
       "      <td>60</td>\n",
       "      <td>121</td>\n",
       "    </tr>\n",
       "    <tr>\n",
       "      <th>3</th>\n",
       "      <td>20140101140007</td>\n",
       "      <td>4</td>\n",
       "      <td>10</td>\n",
       "      <td>18111</td>\n",
       "    </tr>\n",
       "    <tr>\n",
       "      <th>4</th>\n",
       "      <td>20140101140007</td>\n",
       "      <td>5</td>\n",
       "      <td>30</td>\n",
       "      <td>1111</td>\n",
       "    </tr>\n",
       "    <tr>\n",
       "      <th>5</th>\n",
       "      <td>20140101140007</td>\n",
       "      <td>6</td>\n",
       "      <td>20</td>\n",
       "      <td>18131</td>\n",
       "    </tr>\n",
       "    <tr>\n",
       "      <th>6</th>\n",
       "      <td>20140101140007</td>\n",
       "      <td>7</td>\n",
       "      <td>90</td>\n",
       "      <td>13116</td>\n",
       "    </tr>\n",
       "    <tr>\n",
       "      <th>7</th>\n",
       "      <td>20140101140007</td>\n",
       "      <td>8</td>\n",
       "      <td>25</td>\n",
       "      <td>18131</td>\n",
       "    </tr>\n",
       "    <tr>\n",
       "      <th>8</th>\n",
       "      <td>20140101140007</td>\n",
       "      <td>9</td>\n",
       "      <td>30</td>\n",
       "      <td>1233</td>\n",
       "    </tr>\n",
       "    <tr>\n",
       "      <th>9</th>\n",
       "      <td>20140101140007</td>\n",
       "      <td>10</td>\n",
       "      <td>605</td>\n",
       "      <td>111</td>\n",
       "    </tr>\n",
       "  </tbody>\n",
       "</table>\n",
       "</div>"
      ],
      "text/plain": [
       "         TUCASEID  TUACTIVITY_N  TUACTDUR24  codes\n",
       "0  20140101140007             1         540    111\n",
       "1  20140101140007             2          30    311\n",
       "2  20140101140007             3          60    121\n",
       "3  20140101140007             4          10  18111\n",
       "4  20140101140007             5          30   1111\n",
       "5  20140101140007             6          20  18131\n",
       "6  20140101140007             7          90  13116\n",
       "7  20140101140007             8          25  18131\n",
       "8  20140101140007             9          30   1233\n",
       "9  20140101140007            10         605    111"
      ]
     },
     "execution_count": 14,
     "metadata": {},
     "output_type": "execute_result"
    }
   ],
   "source": [
    "child_care_by_ID.get_group(20140101140007)"
   ]
  },
  {
   "cell_type": "code",
   "execution_count": 15,
   "metadata": {
    "collapsed": false
   },
   "outputs": [],
   "source": [
    "minutes_caring = {}\n",
    "for name, group in child_care_by_ID:\n",
    "    for row in group.itertuples():\n",
    "        if row.codes[:2] in ['31', '32', '33']:\n",
    "            if name in minutes_caring:\n",
    "                minutes_caring[name] = minutes_caring[name] + row.TUACTDUR24\n",
    "            else:\n",
    "                minutes_caring[name] = row.TUACTDUR24\n",
    "child_care_time = pd.Series(minutes_caring, name='Child Care Time')"
   ]
  },
  {
   "cell_type": "code",
   "execution_count": 16,
   "metadata": {
    "collapsed": false
   },
   "outputs": [],
   "source": [
    "child_care_time = pd.DataFrame(child_care_time)"
   ]
  },
  {
   "cell_type": "code",
   "execution_count": 17,
   "metadata": {
    "collapsed": false
   },
   "outputs": [],
   "source": [
    "#child_care_time = child_care_time.rename(columns={'0': 'Child Care Time'})"
   ]
  },
  {
   "cell_type": "code",
   "execution_count": 18,
   "metadata": {
    "collapsed": true
   },
   "outputs": [],
   "source": [
    "weight = respondent[['TUCASEID', 'TUFINLWGT']].copy()"
   ]
  },
  {
   "cell_type": "code",
   "execution_count": 19,
   "metadata": {
    "collapsed": false
   },
   "outputs": [],
   "source": [
    "weight.set_index(weight.pop('TUCASEID'), inplace=True)"
   ]
  },
  {
   "cell_type": "code",
   "execution_count": 20,
   "metadata": {
    "collapsed": false
   },
   "outputs": [],
   "source": [
    "#child_care_time['TUCASEID'] = child_care_time.index.to_series()"
   ]
  },
  {
   "cell_type": "code",
   "execution_count": 21,
   "metadata": {
    "collapsed": false
   },
   "outputs": [],
   "source": [
    "weighted_child_care = weight.join(child_care_time)"
   ]
  },
  {
   "cell_type": "code",
   "execution_count": 22,
   "metadata": {
    "collapsed": false
   },
   "outputs": [],
   "source": []
  },
  {
   "cell_type": "code",
   "execution_count": 23,
   "metadata": {
    "collapsed": false
   },
   "outputs": [
    {
     "name": "stdout",
     "output_type": "stream",
     "text": [
      "<class 'pandas.core.frame.DataFrame'>\n",
      "Int64Index: 11592 entries, 20140101140007 to 20141212142500\n",
      "Data columns (total 1 columns):\n",
      "TUFINLWGT    11592 non-null float64\n",
      "dtypes: float64(1)\n",
      "memory usage: 181.1 KB\n"
     ]
    }
   ],
   "source": [
    "weight.info()"
   ]
  },
  {
   "cell_type": "code",
   "execution_count": 27,
   "metadata": {
    "collapsed": false
   },
   "outputs": [
    {
     "name": "stdout",
     "output_type": "stream",
     "text": [
      "<class 'pandas.core.frame.DataFrame'>\n",
      "Int64Index: 11592 entries, 20140101140007 to 20141212142500\n",
      "Data columns (total 2 columns):\n",
      "TUFINLWGT          11592 non-null float64\n",
      "Child Care Time    2889 non-null float64\n",
      "dtypes: float64(2)\n",
      "memory usage: 271.7 KB\n"
     ]
    }
   ],
   "source": [
    "weighted_child_care.info()"
   ]
  },
  {
   "cell_type": "code",
   "execution_count": 28,
   "metadata": {
    "collapsed": false
   },
   "outputs": [
    {
     "data": {
      "text/html": [
       "<div>\n",
       "<table border=\"1\" class=\"dataframe\">\n",
       "  <thead>\n",
       "    <tr style=\"text-align: right;\">\n",
       "      <th></th>\n",
       "      <th>TUFINLWGT</th>\n",
       "      <th>Child Care Time</th>\n",
       "    </tr>\n",
       "    <tr>\n",
       "      <th>TUCASEID</th>\n",
       "      <th></th>\n",
       "      <th></th>\n",
       "    </tr>\n",
       "  </thead>\n",
       "  <tbody>\n",
       "    <tr>\n",
       "      <th>20140101140007</th>\n",
       "      <td>4.891316e+06</td>\n",
       "      <td>30.0</td>\n",
       "    </tr>\n",
       "    <tr>\n",
       "      <th>20140101140011</th>\n",
       "      <td>2.314737e+07</td>\n",
       "      <td>NaN</td>\n",
       "    </tr>\n",
       "    <tr>\n",
       "      <th>20140101140028</th>\n",
       "      <td>2.094182e+07</td>\n",
       "      <td>180.0</td>\n",
       "    </tr>\n",
       "    <tr>\n",
       "      <th>20140101140063</th>\n",
       "      <td>2.505899e+06</td>\n",
       "      <td>NaN</td>\n",
       "    </tr>\n",
       "    <tr>\n",
       "      <th>20140101140168</th>\n",
       "      <td>1.592823e+07</td>\n",
       "      <td>175.0</td>\n",
       "    </tr>\n",
       "  </tbody>\n",
       "</table>\n",
       "</div>"
      ],
      "text/plain": [
       "                   TUFINLWGT  Child Care Time\n",
       "TUCASEID                                     \n",
       "20140101140007  4.891316e+06             30.0\n",
       "20140101140011  2.314737e+07              NaN\n",
       "20140101140028  2.094182e+07            180.0\n",
       "20140101140063  2.505899e+06              NaN\n",
       "20140101140168  1.592823e+07            175.0"
      ]
     },
     "execution_count": 28,
     "metadata": {},
     "output_type": "execute_result"
    }
   ],
   "source": [
    "weighted_child_care.head()"
   ]
  },
  {
   "cell_type": "code",
   "execution_count": 29,
   "metadata": {
    "collapsed": false
   },
   "outputs": [],
   "source": [
    "weighted_child_care['weighted_care_time'] = weighted_child_care['TUFINLWGT'] * weighted_child_care['Child Care Time']"
   ]
  },
  {
   "cell_type": "code",
   "execution_count": 30,
   "metadata": {
    "collapsed": false
   },
   "outputs": [
    {
     "data": {
      "text/html": [
       "<div>\n",
       "<table border=\"1\" class=\"dataframe\">\n",
       "  <thead>\n",
       "    <tr style=\"text-align: right;\">\n",
       "      <th></th>\n",
       "      <th>TUFINLWGT</th>\n",
       "      <th>Child Care Time</th>\n",
       "      <th>weighted_care_time</th>\n",
       "    </tr>\n",
       "    <tr>\n",
       "      <th>TUCASEID</th>\n",
       "      <th></th>\n",
       "      <th></th>\n",
       "      <th></th>\n",
       "    </tr>\n",
       "  </thead>\n",
       "  <tbody>\n",
       "    <tr>\n",
       "      <th>20140101140007</th>\n",
       "      <td>4.891316e+06</td>\n",
       "      <td>30.0</td>\n",
       "      <td>1.467395e+08</td>\n",
       "    </tr>\n",
       "    <tr>\n",
       "      <th>20140101140011</th>\n",
       "      <td>2.314737e+07</td>\n",
       "      <td>NaN</td>\n",
       "      <td>NaN</td>\n",
       "    </tr>\n",
       "    <tr>\n",
       "      <th>20140101140028</th>\n",
       "      <td>2.094182e+07</td>\n",
       "      <td>180.0</td>\n",
       "      <td>3.769528e+09</td>\n",
       "    </tr>\n",
       "    <tr>\n",
       "      <th>20140101140063</th>\n",
       "      <td>2.505899e+06</td>\n",
       "      <td>NaN</td>\n",
       "      <td>NaN</td>\n",
       "    </tr>\n",
       "    <tr>\n",
       "      <th>20140101140168</th>\n",
       "      <td>1.592823e+07</td>\n",
       "      <td>175.0</td>\n",
       "      <td>2.787441e+09</td>\n",
       "    </tr>\n",
       "  </tbody>\n",
       "</table>\n",
       "</div>"
      ],
      "text/plain": [
       "                   TUFINLWGT  Child Care Time  weighted_care_time\n",
       "TUCASEID                                                         \n",
       "20140101140007  4.891316e+06             30.0        1.467395e+08\n",
       "20140101140011  2.314737e+07              NaN                 NaN\n",
       "20140101140028  2.094182e+07            180.0        3.769528e+09\n",
       "20140101140063  2.505899e+06              NaN                 NaN\n",
       "20140101140168  1.592823e+07            175.0        2.787441e+09"
      ]
     },
     "execution_count": 30,
     "metadata": {},
     "output_type": "execute_result"
    }
   ],
   "source": [
    "weighted_child_care.head()"
   ]
  },
  {
   "cell_type": "code",
   "execution_count": 34,
   "metadata": {
    "collapsed": true
   },
   "outputs": [],
   "source": [
    "summed_child_care = weighted_child_care.sum()"
   ]
  },
  {
   "cell_type": "code",
   "execution_count": 35,
   "metadata": {
    "collapsed": false
   },
   "outputs": [
    {
     "data": {
      "text/plain": [
       "TUFINLWGT             9.201173e+10\n",
       "Child Care Time       3.504950e+05\n",
       "weighted_care_time    2.267731e+12\n",
       "dtype: float64"
      ]
     },
     "execution_count": 35,
     "metadata": {},
     "output_type": "execute_result"
    }
   ],
   "source": [
    "summed_child_care"
   ]
  },
  {
   "cell_type": "code",
   "execution_count": 37,
   "metadata": {
    "collapsed": false
   },
   "outputs": [],
   "source": [
    "child_care_avg_daily_minutes = summed_child_care['weighted_care_time'] / summed_child_care['TUFINLWGT']"
   ]
  },
  {
   "cell_type": "code",
   "execution_count": 38,
   "metadata": {
    "collapsed": false
   },
   "outputs": [
    {
     "data": {
      "text/plain": [
       "24.646112399316848"
      ]
     },
     "execution_count": 38,
     "metadata": {},
     "output_type": "execute_result"
    }
   ],
   "source": [
    "child_care_avg_daily_minutes"
   ]
  },
  {
   "cell_type": "markdown",
   "metadata": {},
   "source": [
    "In hours:"
   ]
  },
  {
   "cell_type": "code",
   "execution_count": 39,
   "metadata": {
    "collapsed": true
   },
   "outputs": [],
   "source": [
    "child_care_hourly = child_care_avg_daily_minutes / 60"
   ]
  },
  {
   "cell_type": "code",
   "execution_count": 40,
   "metadata": {
    "collapsed": false
   },
   "outputs": [
    {
     "data": {
      "text/plain": [
       "0.41076853998861412"
      ]
     },
     "execution_count": 40,
     "metadata": {},
     "output_type": "execute_result"
    }
   ],
   "source": [
    "child_care_hourly"
   ]
  },
  {
   "cell_type": "markdown",
   "metadata": {},
   "source": [
    "0.41 corresponds to the figure reported by the BLS in their table 1 from their [press release](http://www.bls.gov/news.release/archives/atus_06242015.htm) of the 2014 Survey.\n",
    "![Hourly Child Care in the US](ATUS-Survery-hourly-childcare.png)"
   ]
  },
  {
   "cell_type": "code",
   "execution_count": null,
   "metadata": {
    "collapsed": true
   },
   "outputs": [],
   "source": []
  }
 ],
 "metadata": {
  "kernelspec": {
   "display_name": "Python 3",
   "language": "python",
   "name": "python3"
  },
  "language_info": {
   "codemirror_mode": {
    "name": "ipython",
    "version": 3
   },
   "file_extension": ".py",
   "mimetype": "text/x-python",
   "name": "python",
   "nbconvert_exporter": "python",
   "pygments_lexer": "ipython3",
   "version": "3.5.1"
  }
 },
 "nbformat": 4,
 "nbformat_minor": 0
}
